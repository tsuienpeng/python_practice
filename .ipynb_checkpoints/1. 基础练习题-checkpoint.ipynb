{
 "cells": [
  {
   "cell_type": "markdown",
   "id": "d0f23a7f",
   "metadata": {},
   "source": [
    "# Python常用数据结构"
   ]
  },
  {
   "cell_type": "markdown",
   "id": "01b3137b",
   "metadata": {},
   "source": [
    "## 字符串"
   ]
  },
  {
   "cell_type": "markdown",
   "id": "efda4a85",
   "metadata": {},
   "source": [
    "### 将 \"1,2,3\" 变成 [\"1\",\"2\",\"3\"]"
   ]
  },
  {
   "cell_type": "code",
   "execution_count": null,
   "id": "452784b9",
   "metadata": {},
   "outputs": [],
   "source": []
  },
  {
   "cell_type": "markdown",
   "id": "2dadc78a",
   "metadata": {},
   "source": [
    "## 列表"
   ]
  },
  {
   "cell_type": "markdown",
   "id": "27f13327",
   "metadata": {},
   "source": [
    "## 元组"
   ]
  },
  {
   "cell_type": "markdown",
   "id": "6be947ba",
   "metadata": {},
   "source": [
    "### 下面代码的输出结果\n",
    "\n"
   ]
  },
  {
   "cell_type": "code",
   "execution_count": 6,
   "id": "3b52b3bc",
   "metadata": {
    "scrolled": true
   },
   "outputs": [
    {
     "name": "stderr",
     "output_type": "stream",
     "text": [
      "<>:1: SyntaxWarning: 'int' object is not subscriptable; perhaps you missed a comma?\n",
      "<>:1: SyntaxWarning: 'int' object is not subscriptable; perhaps you missed a comma?\n",
      "/var/folders/hl/t_7v1_1d02x2dxb5ymq4bn5c0000gn/T/ipykernel_37973/2990483328.py:1: SyntaxWarning: 'int' object is not subscriptable; perhaps you missed a comma?\n",
      "  a = (1, 2, 3 [4, 5, 6], 7)\n",
      "/var/folders/hl/t_7v1_1d02x2dxb5ymq4bn5c0000gn/T/ipykernel_37973/2990483328.py:1: SyntaxWarning: 'int' object is not subscriptable; perhaps you missed a comma?\n",
      "  a = (1, 2, 3 [4, 5, 6], 7)\n",
      "/var/folders/hl/t_7v1_1d02x2dxb5ymq4bn5c0000gn/T/ipykernel_37973/2990483328.py:1: SyntaxWarning: 'int' object is not subscriptable; perhaps you missed a comma?\n",
      "  a = (1, 2, 3 [4, 5, 6], 7)\n"
     ]
    },
    {
     "ename": "TypeError",
     "evalue": "'int' object is not subscriptable",
     "output_type": "error",
     "traceback": [
      "\u001b[0;31m---------------------------------------------------------------------------\u001b[0m",
      "\u001b[0;31mTypeError\u001b[0m                                 Traceback (most recent call last)",
      "Input \u001b[0;32mIn [6]\u001b[0m, in \u001b[0;36m<cell line: 1>\u001b[0;34m()\u001b[0m\n\u001b[0;32m----> 1\u001b[0m a \u001b[38;5;241m=\u001b[39m (\u001b[38;5;241m1\u001b[39m, \u001b[38;5;241m2\u001b[39m, \u001b[38;5;241;43m3\u001b[39;49m\u001b[43m \u001b[49m\u001b[43m[\u001b[49m\u001b[38;5;241;43m4\u001b[39;49m\u001b[43m,\u001b[49m\u001b[43m \u001b[49m\u001b[38;5;241;43m5\u001b[39;49m\u001b[43m,\u001b[49m\u001b[43m \u001b[49m\u001b[38;5;241;43m6\u001b[39;49m\u001b[43m]\u001b[49m, \u001b[38;5;241m7\u001b[39m)\n\u001b[1;32m      2\u001b[0m a[\u001b[38;5;241m2\u001b[39m]\n",
      "\u001b[0;31mTypeError\u001b[0m: 'int' object is not subscriptable"
     ]
    }
   ],
   "source": [
    "a = (1, 2, 3 [4, 5, 6], 7)\n",
    "a[2]\n",
    "# 这段代码的输出结果是报错"
   ]
  },
  {
   "cell_type": "code",
   "execution_count": 7,
   "id": "7f37f959",
   "metadata": {},
   "outputs": [
    {
     "data": {
      "text/plain": [
       "4"
      ]
     },
     "execution_count": 7,
     "metadata": {},
     "output_type": "execute_result"
    }
   ],
   "source": [
    "a = (1,2,3,[4,5,6,7],8)\n",
    "a[3][0] "
   ]
  },
  {
   "cell_type": "markdown",
   "id": "1c17a157",
   "metadata": {},
   "source": [
    "## 集合"
   ]
  },
  {
   "cell_type": "markdown",
   "id": "ff317bc0",
   "metadata": {},
   "source": [
    "## 字典"
   ]
  },
  {
   "cell_type": "markdown",
   "id": "90c76f34",
   "metadata": {},
   "source": [
    "### 根据字典的 key 进行排序"
   ]
  },
  {
   "cell_type": "code",
   "execution_count": 1,
   "id": "8559068a",
   "metadata": {},
   "outputs": [
    {
     "data": {
      "text/plain": [
       "[{'name': 'bob', 'age': 18},\n",
       " {'name': 'Carl', 'age': 28},\n",
       " {'name': 'alice', 'age': 38}]"
      ]
     },
     "execution_count": 1,
     "metadata": {},
     "output_type": "execute_result"
    }
   ],
   "source": [
    "d1 = [\n",
    "    {'name': 'alice', 'age': 38},\n",
    "    {'name': 'bob', 'age': 18},\n",
    "    {'name': 'Carl', 'age': 28},\n",
    "]\n",
    "sorted(d1, key=lambda x: x['age'])"
   ]
  },
  {
   "cell_type": "markdown",
   "id": "5c596a19",
   "metadata": {},
   "source": [
    "### 把字典的 key 和 value 置换"
   ]
  },
  {
   "cell_type": "code",
   "execution_count": 2,
   "id": "1f8d4d39",
   "metadata": {},
   "outputs": [],
   "source": [
    "d = {'a': 1, 'b': 2, 'c': 3}"
   ]
  },
  {
   "cell_type": "code",
   "execution_count": 3,
   "id": "7bb2952d",
   "metadata": {},
   "outputs": [
    {
     "data": {
      "text/plain": [
       "{1: 'a', 2: 'b', 3: 'c'}"
      ]
     },
     "execution_count": 3,
     "metadata": {},
     "output_type": "execute_result"
    }
   ],
   "source": [
    "# 方法一：字典生成式\n",
    "{v: k for k,v in d.items()}"
   ]
  },
  {
   "cell_type": "code",
   "execution_count": 4,
   "id": "f9809e27",
   "metadata": {},
   "outputs": [
    {
     "data": {
      "text/plain": [
       "{1: 'a', 2: 'b', 3: 'c'}"
      ]
     },
     "execution_count": 4,
     "metadata": {},
     "output_type": "execute_result"
    }
   ],
   "source": [
    "# 方法二：zip 函数\n",
    "dict(zip(d.values(), d.keys()))"
   ]
  },
  {
   "cell_type": "code",
   "execution_count": null,
   "id": "c4946763",
   "metadata": {},
   "outputs": [],
   "source": []
  }
 ],
 "metadata": {
  "kernelspec": {
   "display_name": "Python 3 (ipykernel)",
   "language": "python",
   "name": "python3"
  },
  "language_info": {
   "codemirror_mode": {
    "name": "ipython",
    "version": 3
   },
   "file_extension": ".py",
   "mimetype": "text/x-python",
   "name": "python",
   "nbconvert_exporter": "python",
   "pygments_lexer": "ipython3",
   "version": "3.8.3"
  },
  "toc": {
   "base_numbering": 1,
   "nav_menu": {},
   "number_sections": true,
   "sideBar": true,
   "skip_h1_title": false,
   "title_cell": "Table of Contents",
   "title_sidebar": "Contents",
   "toc_cell": false,
   "toc_position": {},
   "toc_section_display": true,
   "toc_window_display": false
  }
 },
 "nbformat": 4,
 "nbformat_minor": 5
}
