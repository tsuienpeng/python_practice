{
 "cells": [
  {
   "cell_type": "markdown",
   "id": "f5059f95",
   "metadata": {},
   "source": [
    "# Python常用数据结构"
   ]
  },
  {
   "cell_type": "markdown",
   "id": "85df11da",
   "metadata": {},
   "source": [
    "## 字节"
   ]
  },
  {
   "cell_type": "markdown",
   "id": "10653b23",
   "metadata": {},
   "source": [
    "### a=\"hello\" 和 b =\"你好\" 编码成 bytes 类型"
   ]
  },
  {
   "cell_type": "code",
   "execution_count": null,
   "id": "db247f2f",
   "metadata": {},
   "outputs": [],
   "source": [
    "\"\"\"这个题目一共三种方式，第一种是在字符串的前面加一个 b，第二种可以使用 bytes 方法，\n",
    "第三种使用字符串 encode 方法。具体代码如下，abc 代表三种情况\"\"\"\n",
    "a = b\"hello\"\n",
    "b = bytes(\"你好\", \"utf-8\")\n",
    "c = \"你好\".encode(\"utf-8\")\n",
    "print(a, b, c)"
   ]
  },
  {
   "cell_type": "markdown",
   "id": "a95e3e2e",
   "metadata": {},
   "source": [
    "## 字符串"
   ]
  },
  {
   "cell_type": "markdown",
   "id": "f8949167",
   "metadata": {},
   "source": [
    "### 将 \"1,2,3\" 变成 [\"1\",\"2\",\"3\"]"
   ]
  },
  {
   "cell_type": "code",
   "execution_count": 8,
   "id": "6435f55d",
   "metadata": {},
   "outputs": [
    {
     "name": "stdout",
     "output_type": "stream",
     "text": [
      "['1', '2', '3']\n"
     ]
    }
   ],
   "source": [
    "s = \"1,2,3\"\n",
    "print(s.split(\",\"))"
   ]
  },
  {
   "cell_type": "markdown",
   "id": "4c01f7b9",
   "metadata": {},
   "source": [
    "## 列表"
   ]
  },
  {
   "cell_type": "markdown",
   "id": "c4382ccb",
   "metadata": {},
   "source": [
    "### 给定两个 list，找出相同元素和不同元素"
   ]
  },
  {
   "cell_type": "code",
   "execution_count": 9,
   "id": "8b437b33",
   "metadata": {},
   "outputs": [
    {
     "name": "stdout",
     "output_type": "stream",
     "text": [
      "{3, 'cc'}\n"
     ]
    }
   ],
   "source": [
    "a = [1, 2, 3, 'a', 'b', 'cc']\n",
    "b = [3, 'aa', 'cc']\n",
    "\"\"\"a, b中相同元素\"\"\"\n",
    "print(set(a)&set(b))"
   ]
  },
  {
   "cell_type": "code",
   "execution_count": 10,
   "id": "1756ace2",
   "metadata": {},
   "outputs": [
    {
     "name": "stdout",
     "output_type": "stream",
     "text": [
      "{1, 2, 'aa', 'b', 'a'}\n"
     ]
    }
   ],
   "source": [
    "\"\"\"a, b中不同元素\"\"\"\n",
    "print(set(a)^set(b))"
   ]
  },
  {
   "cell_type": "markdown",
   "id": "6618fa5a",
   "metadata": {},
   "source": [
    "### 一行代码展开二维列表"
   ]
  },
  {
   "cell_type": "code",
   "execution_count": 11,
   "id": "aef1b666",
   "metadata": {},
   "outputs": [
    {
     "name": "stdout",
     "output_type": "stream",
     "text": [
      "[1, 2, 3, 4, 5, 6]\n"
     ]
    }
   ],
   "source": [
    "l = [[1, 2], [3, 4], [5, 6]]\n",
    "new_l = [j for i in l for j in i]\n",
    "print(new_l)"
   ]
  },
  {
   "cell_type": "markdown",
   "id": "7c6ffacc",
   "metadata": {},
   "source": [
    "### 合并列表"
   ]
  },
  {
   "cell_type": "code",
   "execution_count": 13,
   "id": "857b74f7",
   "metadata": {},
   "outputs": [
    {
     "name": "stdout",
     "output_type": "stream",
     "text": [
      "[1, 5, 7, 2, 6, 8]\n"
     ]
    }
   ],
   "source": [
    "a = [1, 5, 7]\n",
    "b = [2, 6, 8]\n",
    "a.extend(b)\n",
    "print(a)"
   ]
  },
  {
   "cell_type": "markdown",
   "id": "ba7ce8fa",
   "metadata": {},
   "source": [
    "### 如何打乱一个列表的元素"
   ]
  },
  {
   "cell_type": "code",
   "execution_count": 14,
   "id": "8401cc7c",
   "metadata": {},
   "outputs": [
    {
     "name": "stdout",
     "output_type": "stream",
     "text": [
      "[4, 5, 2, 3, 1]\n"
     ]
    }
   ],
   "source": [
    "import random\n",
    "a = [1, 2, 3, 4, 5]\n",
    "random.shuffle(a)\n",
    "print(a)"
   ]
  },
  {
   "cell_type": "code",
   "execution_count": 15,
   "id": "bf1d2251",
   "metadata": {},
   "outputs": [
    {
     "name": "stdout",
     "output_type": "stream",
     "text": [
      "[3, 5, 2, 4, 1]\n"
     ]
    }
   ],
   "source": [
    "# 不允许用 shuffle 的实现方法\n",
    "l = []\n",
    "for i in range(len(a)):\n",
    "    l.append(a.pop(random.randint(0, len(a) -1)))\n",
    "print(l)"
   ]
  },
  {
   "cell_type": "markdown",
   "id": "0dce6cdc",
   "metadata": {},
   "source": [
    "## 元组"
   ]
  },
  {
   "cell_type": "markdown",
   "id": "43d63a65",
   "metadata": {},
   "source": [
    "### 下面代码的输出结果\n",
    "\n"
   ]
  },
  {
   "cell_type": "code",
   "execution_count": 6,
   "id": "91504564",
   "metadata": {
    "collapsed": true
   },
   "outputs": [
    {
     "name": "stderr",
     "output_type": "stream",
     "text": [
      "<>:1: SyntaxWarning: 'int' object is not subscriptable; perhaps you missed a comma?\n",
      "<>:1: SyntaxWarning: 'int' object is not subscriptable; perhaps you missed a comma?\n",
      "/var/folders/hl/t_7v1_1d02x2dxb5ymq4bn5c0000gn/T/ipykernel_37973/2990483328.py:1: SyntaxWarning: 'int' object is not subscriptable; perhaps you missed a comma?\n",
      "  a = (1, 2, 3 [4, 5, 6], 7)\n",
      "/var/folders/hl/t_7v1_1d02x2dxb5ymq4bn5c0000gn/T/ipykernel_37973/2990483328.py:1: SyntaxWarning: 'int' object is not subscriptable; perhaps you missed a comma?\n",
      "  a = (1, 2, 3 [4, 5, 6], 7)\n",
      "/var/folders/hl/t_7v1_1d02x2dxb5ymq4bn5c0000gn/T/ipykernel_37973/2990483328.py:1: SyntaxWarning: 'int' object is not subscriptable; perhaps you missed a comma?\n",
      "  a = (1, 2, 3 [4, 5, 6], 7)\n"
     ]
    },
    {
     "ename": "TypeError",
     "evalue": "'int' object is not subscriptable",
     "output_type": "error",
     "traceback": [
      "\u001b[0;31m---------------------------------------------------------------------------\u001b[0m",
      "\u001b[0;31mTypeError\u001b[0m                                 Traceback (most recent call last)",
      "Input \u001b[0;32mIn [6]\u001b[0m, in \u001b[0;36m<cell line: 1>\u001b[0;34m()\u001b[0m\n\u001b[0;32m----> 1\u001b[0m a \u001b[38;5;241m=\u001b[39m (\u001b[38;5;241m1\u001b[39m, \u001b[38;5;241m2\u001b[39m, \u001b[38;5;241;43m3\u001b[39;49m\u001b[43m \u001b[49m\u001b[43m[\u001b[49m\u001b[38;5;241;43m4\u001b[39;49m\u001b[43m,\u001b[49m\u001b[43m \u001b[49m\u001b[38;5;241;43m5\u001b[39;49m\u001b[43m,\u001b[49m\u001b[43m \u001b[49m\u001b[38;5;241;43m6\u001b[39;49m\u001b[43m]\u001b[49m, \u001b[38;5;241m7\u001b[39m)\n\u001b[1;32m      2\u001b[0m a[\u001b[38;5;241m2\u001b[39m]\n",
      "\u001b[0;31mTypeError\u001b[0m: 'int' object is not subscriptable"
     ]
    }
   ],
   "source": [
    "a = (1, 2, 3 [4, 5, 6], 7)\n",
    "a[2]\n",
    "# 这段代码的输出结果是报错"
   ]
  },
  {
   "cell_type": "code",
   "execution_count": 7,
   "id": "88ff90dc",
   "metadata": {},
   "outputs": [
    {
     "data": {
      "text/plain": [
       "4"
      ]
     },
     "execution_count": 7,
     "metadata": {},
     "output_type": "execute_result"
    }
   ],
   "source": [
    "a = (1,2,3,[4,5,6,7],8)\n",
    "a[3][0] "
   ]
  },
  {
   "cell_type": "markdown",
   "id": "b1ae3bea",
   "metadata": {},
   "source": [
    "## 集合"
   ]
  },
  {
   "cell_type": "markdown",
   "id": "37ec9c74",
   "metadata": {},
   "source": [
    "## 字典"
   ]
  },
  {
   "cell_type": "markdown",
   "id": "3f56b4ff",
   "metadata": {},
   "source": [
    "### 字典操作中 del 和 pop 有什么区别？"
   ]
  },
  {
   "cell_type": "markdown",
   "id": "69fe019c",
   "metadata": {},
   "source": [
    "- `del` 可以根据索引（元素所在位置）来删除的，没有返回值\n",
    "- `pop` 可以根据索引抛出一个值，然后接收它的返回值"
   ]
  },
  {
   "cell_type": "code",
   "execution_count": 16,
   "id": "09b78572",
   "metadata": {},
   "outputs": [],
   "source": [
    "d = {'name': 'alice', 'age': 38, 'gender': 'woman'}"
   ]
  },
  {
   "cell_type": "code",
   "execution_count": 19,
   "id": "e9849cce",
   "metadata": {},
   "outputs": [
    {
     "name": "stdout",
     "output_type": "stream",
     "text": [
      "{'name': 'alice', 'gender': 'woman'}\n"
     ]
    }
   ],
   "source": [
    "d = {'name': 'alice', 'age': 38, 'gender': 'woman'}\n",
    "if 'age' in d:\n",
    "    # 如果存在，使用 del 语句删除该键\n",
    "    del d['age']\n",
    "print(d)"
   ]
  },
  {
   "cell_type": "code",
   "execution_count": 20,
   "id": "2c1522e5",
   "metadata": {},
   "outputs": [
    {
     "name": "stdout",
     "output_type": "stream",
     "text": [
      "{'name': 'alice', 'gender': 'woman'}\n"
     ]
    }
   ],
   "source": [
    "# 使用 pop\n",
    "d.pop('age', None)  # 如果'age'键不存在，不会抛出错误，而是返回None\n",
    "print(d)"
   ]
  },
  {
   "cell_type": "markdown",
   "id": "48f7f066",
   "metadata": {},
   "source": [
    "### 根据字典的 key 进行排序"
   ]
  },
  {
   "cell_type": "code",
   "execution_count": 1,
   "id": "0ffc6e34",
   "metadata": {},
   "outputs": [
    {
     "data": {
      "text/plain": [
       "[{'name': 'bob', 'age': 18},\n",
       " {'name': 'Carl', 'age': 28},\n",
       " {'name': 'alice', 'age': 38}]"
      ]
     },
     "execution_count": 1,
     "metadata": {},
     "output_type": "execute_result"
    }
   ],
   "source": [
    "d1 = [\n",
    "    {'name': 'alice', 'age': 38},\n",
    "    {'name': 'bob', 'age': 18},\n",
    "    {'name': 'Carl', 'age': 28},\n",
    "]\n",
    "sorted(d1, key=lambda x: x['age'])"
   ]
  },
  {
   "cell_type": "markdown",
   "id": "0bbbb86c",
   "metadata": {},
   "source": [
    "### 把字典的 key 和 value 置换"
   ]
  },
  {
   "cell_type": "code",
   "execution_count": 2,
   "id": "f6cb9993",
   "metadata": {},
   "outputs": [],
   "source": [
    "d = {'a': 1, 'b': 2, 'c': 3}"
   ]
  },
  {
   "cell_type": "code",
   "execution_count": 3,
   "id": "56d353c5",
   "metadata": {},
   "outputs": [
    {
     "data": {
      "text/plain": [
       "{1: 'a', 2: 'b', 3: 'c'}"
      ]
     },
     "execution_count": 3,
     "metadata": {},
     "output_type": "execute_result"
    }
   ],
   "source": [
    "# 方法一：字典生成式\n",
    "{v: k for k,v in d.items()}"
   ]
  },
  {
   "cell_type": "code",
   "execution_count": 4,
   "id": "a9022fc3",
   "metadata": {},
   "outputs": [
    {
     "data": {
      "text/plain": [
       "{1: 'a', 2: 'b', 3: 'c'}"
      ]
     },
     "execution_count": 4,
     "metadata": {},
     "output_type": "execute_result"
    }
   ],
   "source": [
    "# 方法二：zip 函数\n",
    "dict(zip(d.values(), d.keys()))"
   ]
  },
  {
   "cell_type": "markdown",
   "id": "8ad255c5",
   "metadata": {},
   "source": [
    "### 合并两个字典"
   ]
  },
  {
   "cell_type": "code",
   "execution_count": 21,
   "id": "4411a33b",
   "metadata": {},
   "outputs": [
    {
     "name": "stdout",
     "output_type": "stream",
     "text": [
      "{'a': 1, 'b': 2, 'c': 4, 'd': 5}\n"
     ]
    }
   ],
   "source": [
    "d1 = {'a': 1, 'b':2}\n",
    "d2 = {'c': 4, 'd':5}\n",
    "# 使用 update\n",
    "d1.update(d2)\n",
    "print(d1)"
   ]
  },
  {
   "cell_type": "code",
   "execution_count": 22,
   "id": "6622f862",
   "metadata": {},
   "outputs": [
    {
     "name": "stdout",
     "output_type": "stream",
     "text": [
      "{'a': 1, 'b': 2, 'c': 4, 'd': 5}\n"
     ]
    }
   ],
   "source": [
    "# 使用字典解包\n",
    "print({**d1, **d2})"
   ]
  },
  {
   "cell_type": "markdown",
   "id": "4bf24eec",
   "metadata": {},
   "source": [
    "### 将元组转换为字典"
   ]
  },
  {
   "cell_type": "code",
   "execution_count": 24,
   "id": "cac6fbe3",
   "metadata": {},
   "outputs": [
    {
     "name": "stdout",
     "output_type": "stream",
     "text": [
      "{'a': 1, 'b': 2}\n"
     ]
    }
   ],
   "source": [
    "t1 = ('a', 'b')\n",
    "t2 = (1, 2)\n",
    "# 转换为字典，使用 zip\n",
    "print(dict(zip(t1, t2)))"
   ]
  },
  {
   "cell_type": "markdown",
   "id": "22f1b308",
   "metadata": {},
   "source": [
    "# 文件操作"
   ]
  },
  {
   "cell_type": "markdown",
   "id": "6c951b05",
   "metadata": {},
   "source": [
    "## 文件读写"
   ]
  },
  {
   "cell_type": "markdown",
   "id": "03fa0a2b",
   "metadata": {},
   "source": [
    "### 讲解一下 read, readline, readlines 的作用"
   ]
  },
  {
   "cell_type": "markdown",
   "id": "c5a4a79c",
   "metadata": {},
   "source": [
    "- `read()` 每次读取整个文件，通常将文件内容放到一个字符串变量中\n",
    "- `readline()` 返回迭代器\n",
    "- `readlines()` 是读取所有行并且返回一个列表"
   ]
  },
  {
   "cell_type": "markdown",
   "id": "1568ee9a",
   "metadata": {},
   "source": [
    "### 有两个磁盘文件 A 和 B，各存放一行字母，要求把这两个文件中的信息合并(按字母顺序排列)，输出到一个新文件 C 中。"
   ]
  },
  {
   "cell_type": "code",
   "execution_count": null,
   "id": "e45ea70f",
   "metadata": {},
   "outputs": [],
   "source": [
    "#文件 A.txt 内容为 ASDCF\n",
    "#文件 B.txt 内容为 EFGGTG\n",
    "with open(\"A.txt\") as f1：\n",
    "    f1_txt = f1.readline()\n",
    "with open(\"B.txt\") as f2：\n",
    "    f2_txt = f2.readline()\n",
    "f3_txt = f1_txt + f2_txt\n",
    "\n",
    "f3_list = sorted(f3_txt)\n",
    "\n",
    "with open(\"C.txt\", \"a+\") as f：\n",
    "     f.write(\"\".join(f3_list))"
   ]
  },
  {
   "cell_type": "markdown",
   "id": "abc7e298",
   "metadata": {},
   "source": [
    "## JSON 操作"
   ]
  },
  {
   "cell_type": "markdown",
   "id": "40e74d93",
   "metadata": {},
   "source": [
    "### json 序列化时，可以处理的数据类型有哪些？"
   ]
  },
  {
   "cell_type": "markdown",
   "id": "d96c5205",
   "metadata": {},
   "source": [
    "可以处理的数据类型是：str, int, list, tuple, dict, bool, None"
   ]
  },
  {
   "cell_type": "markdown",
   "id": "b60f5d7e",
   "metadata": {},
   "source": [
    "### json 如何定制支持 datetime 类型？"
   ]
  },
  {
   "cell_type": "code",
   "execution_count": 27,
   "id": "a5bc08b2",
   "metadata": {},
   "outputs": [
    {
     "name": "stdout",
     "output_type": "stream",
     "text": [
      "{\"name\": \"Andrew\", \"data\": \"2024-04-16 14:56:05\"}\n"
     ]
    }
   ],
   "source": [
    "# 自定义时间序列化\n",
    "import json\n",
    "from datetime import datetime, date\n",
    "\n",
    "# JSONEncoder 不知道如何将这个数据转换为 json 字符串的时候，就会调用 default() 函数\n",
    "# 所以可以重写 default() 函数来处理它本身不支持的数据类型\n",
    "# default() 函数默认是直接抛异常\n",
    "import json\n",
    "import datetime\n",
    "\n",
    "class DateToJson(json.JSONEncoder):\n",
    "    def default(self, obj):\n",
    "        if isinstance(obj, datetime.datetime):\n",
    "            return obj.strftime('%Y-%m-%d %H:%M:%S')\n",
    "        elif isinstance(obj, datetime.date):\n",
    "            return obj.strftime('%Y-%m-%d')\n",
    "        else:\n",
    "            # 调用父类的default方法\n",
    "            return super(DateToJson, self).default(obj)\n",
    "\n",
    "# 创建一个包含日期和时间的字典\n",
    "d = {'name': 'Andrew', 'data': datetime.datetime.now()}\n",
    "\n",
    "# 将字典转换为JSON字符串\n",
    "json_str = json.dumps(d, cls=DateToJson)\n",
    "\n",
    "# 打印JSON字符串\n",
    "print(json_str)"
   ]
  },
  {
   "cell_type": "markdown",
   "id": "ee99bdbb",
   "metadata": {},
   "source": [
    "### json 序列化时，默认遇到中文会转换成 unicode，如果想保留中文应该怎么办？"
   ]
  },
  {
   "cell_type": "code",
   "execution_count": 29,
   "id": "548ba471",
   "metadata": {},
   "outputs": [
    {
     "name": "stdout",
     "output_type": "stream",
     "text": [
      "{\"name\": \"安德鲁\"}\n"
     ]
    }
   ],
   "source": [
    "# 可以通过 json.dumps 的 ensure_ascii 参数解决\n",
    "import json\n",
    "a = json.dumps({\"name\": \"安德鲁\"}, ensure_ascii=False)\n",
    "print(a)"
   ]
  },
  {
   "cell_type": "markdown",
   "id": "4d0f5acf",
   "metadata": {},
   "source": [
    "# 函数"
   ]
  },
  {
   "cell_type": "markdown",
   "id": "5bc4063e",
   "metadata": {},
   "source": [
    "### 写一个函数，接收整数参数n，返回一个函数，函数的功能是把函数的参数和 n 相乘，并把结果返回"
   ]
  },
  {
   "cell_type": "code",
   "execution_count": 30,
   "id": "c238d814",
   "metadata": {},
   "outputs": [
    {
     "name": "stdout",
     "output_type": "stream",
     "text": [
      "40\n"
     ]
    }
   ],
   "source": [
    "def mul_operate(n):\n",
    "    def func(val):\n",
    "        return n * val\n",
    "    return func\n",
    "\n",
    "m = mul_operate(8)\n",
    "print(m(5))"
   ]
  },
  {
   "cell_type": "code",
   "execution_count": null,
   "id": "9ae34965",
   "metadata": {},
   "outputs": [],
   "source": []
  }
 ],
 "metadata": {
  "kernelspec": {
   "display_name": "Python 3 (ipykernel)",
   "language": "python",
   "name": "python3"
  },
  "language_info": {
   "codemirror_mode": {
    "name": "ipython",
    "version": 3
   },
   "file_extension": ".py",
   "mimetype": "text/x-python",
   "name": "python",
   "nbconvert_exporter": "python",
   "pygments_lexer": "ipython3",
   "version": "3.8.3"
  },
  "toc": {
   "base_numbering": 1,
   "nav_menu": {},
   "number_sections": true,
   "sideBar": true,
   "skip_h1_title": false,
   "title_cell": "Table of Contents",
   "title_sidebar": "Contents",
   "toc_cell": false,
   "toc_position": {},
   "toc_section_display": true,
   "toc_window_display": false
  }
 },
 "nbformat": 4,
 "nbformat_minor": 5
}
